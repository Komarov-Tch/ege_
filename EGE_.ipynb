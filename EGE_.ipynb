{
 "cells": [
  {
   "cell_type": "raw",
   "id": "e3ca79c9-b66a-47d0-8fd8-41efa5054063",
   "metadata": {},
   "source": [
    "#№9\n",
    "f = open('9.txt')\n",
    "k = 0\n",
    "for i in range (кол-во строк):\n",
    "\ta = [int(x) for x in f.readline().split()]\n",
    "\tb = [x for x in a if условие] #выбор определенных значений из массива а\n",
    "\ta.sort() #если необходим порядок значений массива\n",
    "\tif условие:\n",
    "\t\tk+=1\n",
    "print (k)\n",
    "#len(b) длина массива или сколько в нем элементов\n",
    "#из Excel все значения скопировать в блокнот\n",
    "#файл с программой сохранить туда, где текстовый файл\n",
    "#ВНИМАТЕЛЬНО условие: ОБА, ХОТЯ БЫ или ТОЛЬКО ОДИН"
   ]
  },
  {
   "cell_type": "raw",
   "id": "9329932d-056e-451a-a251-ed0d66754c8c",
   "metadata": {},
   "source": [
    "#№12\n",
    "m = 0 #обязательно обнуление максимума\n",
    "for n in range (4, 10000):\t\t\t\t#если дан диапазон (3<n<10000)\n",
    "\ts = '4' + '1'*n\t\t\t\t\t\t#дана строка\n",
    "\twhile '411' in s or '1111' in s:\t#программа из задания\n",
    "\t\tif '411' in s:\n",
    "\t\t\ts = s.replace('411', '14', 1)\n",
    "\t\tif '1111' in s:\n",
    "\t\t\ts = s.replace('1111', '1', 1)\n",
    "\ty = s.count ('1') + s.count ('4')*4\t#подсчитайте сумму цифр в строке\n",
    "\tm = max(m,y)\t\t\t\t\t\t#нахождение максимальной суммы\n",
    "print (m)\n",
    "\n",
    "#если дана строка и нужно вывести результат до обработки\n",
    "s = 'цифра'*\t\t\t\t\t\t\t\t#дана строка\n",
    "while 'условие' in s or 'условие' in s:\t\t#программа из задания\n",
    "\tif 'условие' in s:\n",
    "\t\ts = s.replace('что заменить', 'на что заменить', 1)\n",
    "\tif 'условие' in s:\n",
    "\t\ts = s.replace('что заменить', 'на что заменить', 1)\n",
    "print (s)\n",
    "#внимательно читаем программу. Если иначе, то else\n",
    "#при замене единицу пишем ОБЯЗАТЕЛЬНО"
   ]
  },
  {
   "cell_type": "raw",
   "id": "877f1575-395e-44e5-bf23-7b337d432377",
   "metadata": {},
   "source": [
    "#№13\n",
    "from ipaddress import*\n",
    "k=0\n",
    "for i in ip_network('ip-адрес/маска', 0):\n",
    "\ty = bin(int(i)) [2;]\n",
    "\tif y.count ('нули или единицы')%на что делится или нет(==)!=0:\n",
    "\t\tk+=1\n",
    "print (k)\n",
    "\n",
    "#y[0:8] первый байт\n",
    "#y[8:16] второй байт\n",
    "#y[16:24] третий байт\n",
    "#y[24:] четвертый байт"
   ]
  },
  {
   "cell_type": "raw",
   "id": "5e0c7796-9980-4971-8405-097d9e0c9bc7",
   "metadata": {},
   "source": [
    "#№14 вариант 1. Дано выражение. Найти количество определенных цифр\n",
    "y = записать все выражение\n",
    "k = 0\n",
    "while y>0:\n",
    "\tif y%система счисления == цифра, которую ищем:\n",
    "\t\tk+=1\n",
    "\ty = y//система счисления\n",
    "print (k)"
   ]
  },
  {
   "cell_type": "raw",
   "id": "bce71fcd-d158-4338-8f53-e655c4e95a5c",
   "metadata": {},
   "source": [
    "#вариант 2. Если дано выражением с x. Система счисления до 36\n",
    "for x in 'алфавит системы счисления':\n",
    "\ty1 = 'цифры' + x + 'цифры' #составить части выражения\n",
    "\ty1 = 'цифры' + x + 'цифры'\n",
    "\ty = int(y1, система счисления) + y=int(y2, система счисления)\n",
    "\tif y%число==0:\n",
    "\t\tprint (y//число)"
   ]
  },
  {
   "cell_type": "raw",
   "id": "3cec2c6a-b4e6-4853-a568-340844ea5496",
   "metadata": {},
   "source": [
    "#вариант 3 из экзамена 2024 года. Укажите x, при условии, что найдено столько то цифр\n",
    "for x in range (диапазон):\n",
    "\ty = записать все выражения\n",
    "\tk=0\n",
    "\twhile y>0:\n",
    "\t\tif y%система счисления == цифра, которую ищем:\n",
    "\t\t\tk+=1\n",
    "\t\ty=y//система счисления\n",
    "\tif k==указанному числу:\n",
    "\t\tprint (x)"
   ]
  },
  {
   "cell_type": "raw",
   "id": "f555cab8-1023-428e-91d0-9d8fba31605f",
   "metadata": {},
   "source": [
    "#№15\n",
    "for a in range (1, 100):#диапазон увеличиваем, если не появится результат\n",
    "\tf = 1\n",
    "\tfor x in range (1,100):#если y - добавить еще цикл\n",
    "\t\tif () == False:\n",
    "\t\t\tf=0\n",
    "\tif f==1:\n",
    "\t\tprint (a)#если наименьшее, поставить break"
   ]
  },
  {
   "cell_type": "raw",
   "id": "2f8b61db-80ce-4a5c-ae56-9d8a6fc4bf54",
   "metadata": {},
   "source": [
    "#№16\n",
    "import sys \t\t\t\t\t\t\t#при условии, что большие значения\n",
    "sys.setrecursionlimit (диапазон) \t#для расчета\n",
    "from functools import* \t\t\t\t#если в условии маленькие значения, а в выводе большие\n",
    "@lru_cache\n",
    "def f(n):\n",
    "\tif условие: \t\t\t\t\t#то, что написано после Если или При\n",
    "\t\treturn формула или число\n",
    "\tif условие: \t\t\t\t\t#то, что написано после Если или При\n",
    "\t\treturn формула или число\n",
    "\n",
    "for i in range (диапазон): \t\t\t#при вызове @lru_cache добавляем цикл\n",
    "\tf(i)\n",
    "print (f(значения для расчета))"
   ]
  },
  {
   "cell_type": "code",
   "execution_count": 5,
   "id": "90eaa516-db44-455b-8ae9-97c7c2e76a95",
   "metadata": {},
   "outputs": [
    {
     "name": "stdout",
     "output_type": "stream",
     "text": [
      "126\n"
     ]
    }
   ],
   "source": [
    "import sys\n",
    "from functools import *\n",
    "sys.setrecursionlimit(2000)\n",
    "@lru_cache(None)\n",
    "def f(n):\n",
    "    if n == 0:\n",
    "        return 1\n",
    "    elif n == 1:\n",
    "        return 3\n",
    "    else:\n",
    "        return f(n-1) - f(n-2) + 3 * n\n",
    "\n",
    "print(f(40))"
   ]
  },
  {
   "cell_type": "code",
   "execution_count": 11,
   "id": "82804079-9851-4741-b9e3-cda53406925d",
   "metadata": {},
   "outputs": [
    {
     "name": "stdout",
     "output_type": "stream",
     "text": [
      "105\n"
     ]
    }
   ],
   "source": [
    "import sys\n",
    "from functools import *\n",
    "sys.setrecursionlimit(2000)\n",
    "@lru_cache(None)\n",
    "def f(n):\n",
    "    if n == 0:\n",
    "        return 1\n",
    "    elif n > 0:\n",
    "        return 2 * f(1-n) + 3 * f(n-1) + 2\n",
    "    elif n < 0:\n",
    "        return -f(-n)\n",
    "\n",
    "print(f(50))"
   ]
  },
  {
   "cell_type": "code",
   "execution_count": null,
   "id": "dcefc061-db1a-41a7-8ae9-a9a7cf520131",
   "metadata": {},
   "outputs": [],
   "source": []
  },
  {
   "cell_type": "code",
   "execution_count": null,
   "id": "ce42ca78-34cd-40ca-aa36-e910e52069d1",
   "metadata": {},
   "outputs": [],
   "source": []
  }
 ],
 "metadata": {
  "kernelspec": {
   "display_name": "Python 3 (ipykernel)",
   "language": "python",
   "name": "python3"
  },
  "language_info": {
   "codemirror_mode": {
    "name": "ipython",
    "version": 3
   },
   "file_extension": ".py",
   "mimetype": "text/x-python",
   "name": "python",
   "nbconvert_exporter": "python",
   "pygments_lexer": "ipython3",
   "version": "3.12.7"
  }
 },
 "nbformat": 4,
 "nbformat_minor": 5
}
